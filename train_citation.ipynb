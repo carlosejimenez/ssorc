{
 "cells": [
  {
   "cell_type": "code",
   "execution_count": 1,
   "metadata": {},
   "outputs": [],
   "source": [
    "import json\n",
    "import pandas as pd\n",
    "import numpy as np\n",
    "import utils\n",
    "from sklearn import linear_model, svm\n",
    "from sklearn.preprocessing import StandardScaler\n",
    "from sklearn.metrics import mean_squared_error, r2_score"
   ]
  },
  {
   "cell_type": "code",
   "execution_count": 2,
   "metadata": {},
   "outputs": [],
   "source": [
    "np.random.seed(42)"
   ]
  },
  {
   "cell_type": "code",
   "execution_count": 3,
   "metadata": {},
   "outputs": [],
   "source": [
    "def evaluate(model, x, y):\n",
    "    y_pred = model.predict(x)\n",
    "    print(f'rmse: {np.sqrt(mean_squared_error(y, y_pred))}')\n",
    "    print(f'r2: {r2_score(y, y_pred)}')"
   ]
  },
  {
   "cell_type": "code",
   "execution_count": 4,
   "metadata": {},
   "outputs": [],
   "source": [
    "x_train, y_train = utils.load_citation_h_index_split('train')\n",
    "x_val, y_val = utils.load_citation_h_index_split('val')\n",
    "test_pids, x_test, y_test = utils.load_citation_h_index_split('test', include_pids=True)"
   ]
  },
  {
   "cell_type": "code",
   "execution_count": 5,
   "metadata": {},
   "outputs": [
    {
     "name": "stdout",
     "output_type": "stream",
     "text": [
      "rmse: 103.97348824077486\n",
      "r2: 0.0021804835419348967\n",
      "Val\n",
      "rmse: 89.31744088215052\n",
      "r2: 0.006659548852593011\n"
     ]
    },
    {
     "name": "stderr",
     "output_type": "stream",
     "text": [
      "/usr/local/Caskroom/miniconda/base/envs/s2orc/lib/python3.8/site-packages/sklearn/svm/_base.py:976: ConvergenceWarning: Liblinear failed to converge, increase the number of iterations.\n",
      "  warnings.warn(\"Liblinear failed to converge, increase \"\n"
     ]
    }
   ],
   "source": [
    "model = svm.LinearSVR(C=100, fit_intercept=True, max_iter=100000)\n",
    "model.fit(x_train, y_train)\n",
    "evaluate(model, x_train, y_train)\n",
    "print('Val')\n",
    "evaluate(model, x_val, y_val)"
   ]
  },
  {
   "cell_type": "code",
   "execution_count": 6,
   "metadata": {},
   "outputs": [],
   "source": [
    "x_train, y_train = utils.join_splits([x_train, x_val], [y_train, y_val])"
   ]
  },
  {
   "cell_type": "code",
   "execution_count": 7,
   "metadata": {},
   "outputs": [
    {
     "name": "stdout",
     "output_type": "stream",
     "text": [
      "rmse: 102.40093225182942\n",
      "r2: -0.005247423333121448\n",
      "Test\n",
      "rmse: 101.42165983316357\n",
      "r2: -0.0049143176278740874\n"
     ]
    }
   ],
   "source": [
    "model = svm.LinearSVR(C=1, fit_intercept=True, max_iter=100000)\n",
    "model.fit(x_train, y_train)\n",
    "evaluate(model, x_train, y_train)\n",
    "print('Test')\n",
    "evaluate(model, x_test, y_test)\n",
    "h_index_decisions = model.predict(x_test)\n",
    "h_index_pids = test_pids.copy()"
   ]
  },
  {
   "cell_type": "code",
   "execution_count": 8,
   "metadata": {},
   "outputs": [],
   "source": [
    "x_train, y_train = utils.load_citation_embeddings_split('train')\n",
    "x_val, y_val = utils.load_citation_embeddings_split('val')\n",
    "test_ids, x_test, y_test = utils.load_citation_embeddings_split('test', include_pids=True)"
   ]
  },
  {
   "cell_type": "code",
   "execution_count": 9,
   "metadata": {},
   "outputs": [
    {
     "name": "stdout",
     "output_type": "stream",
     "text": [
      "rmse: 100.37012173272312\n",
      "r2: 0.07014406616708968\n",
      "Val\n",
      "rmse: 90.36449293520099\n",
      "r2: -0.016766457926515654\n"
     ]
    },
    {
     "name": "stderr",
     "output_type": "stream",
     "text": [
      "/usr/local/Caskroom/miniconda/base/envs/s2orc/lib/python3.8/site-packages/sklearn/svm/_base.py:976: ConvergenceWarning: Liblinear failed to converge, increase the number of iterations.\n",
      "  warnings.warn(\"Liblinear failed to converge, increase \"\n"
     ]
    }
   ],
   "source": [
    "model = svm.LinearSVR(C=10, fit_intercept=True, max_iter=1000)\n",
    "model.fit(x_train, y_train)\n",
    "evaluate(model, x_train, y_train)\n",
    "print('Val')\n",
    "evaluate(model, x_val, y_val)"
   ]
  },
  {
   "cell_type": "code",
   "execution_count": 10,
   "metadata": {},
   "outputs": [],
   "source": [
    "x_train, y_train = utils.join_splits([x_train, x_val], [y_train, y_val])"
   ]
  },
  {
   "cell_type": "code",
   "execution_count": 11,
   "metadata": {},
   "outputs": [
    {
     "name": "stdout",
     "output_type": "stream",
     "text": [
      "rmse: 99.02239360508361\n",
      "r2: 0.059991051813353735\n",
      "Test\n",
      "rmse: 99.05308596024963\n",
      "r2: 0.041474597089804055\n"
     ]
    }
   ],
   "source": [
    "model = svm.LinearSVR(C=1, fit_intercept=True, max_iter=100000)\n",
    "model.fit(x_train, y_train)\n",
    "evaluate(model, x_train, y_train)\n",
    "print('Test')\n",
    "evaluate(model, x_test, y_test)\n",
    "embeddings_decisions = model.predict(x_test)\n",
    "embeddings_pids = test_pids.copy()"
   ]
  },
  {
   "cell_type": "code",
   "execution_count": 12,
   "metadata": {},
   "outputs": [],
   "source": [
    "top_args = np.argsort(embeddings_decisions)[-10:]\n",
    "embeddings_picks = set(np.array(embeddings_pids)[top_args])"
   ]
  },
  {
   "cell_type": "code",
   "execution_count": 13,
   "metadata": {},
   "outputs": [],
   "source": [
    "top_args = np.argsort(h_index_decisions)[-10:]\n",
    "h_index_picks = set(np.array(h_index_pids)[top_args])"
   ]
  },
  {
   "cell_type": "code",
   "execution_count": 14,
   "metadata": {},
   "outputs": [
    {
     "data": {
      "text/plain": [
       "{'0757aaa5dfe2a56aa1d6149631f3ca0964128e1f',\n",
       " '1499a526dcb939af44f545ed8de8d8fe4757d821',\n",
       " '14be13d44319e8589f46ee484e5039e3a592e6b4',\n",
       " '3ab7321faa3649c2837e5849efa364266a291b47',\n",
       " '617df8d7573ed3740b445f7267f5d908d11c86b6',\n",
       " '8bcbdf9382cd8c38459492c80869eb62fbcacdab',\n",
       " '9ff52479dbbd804b495c97f7822c2d4e61083eb2',\n",
       " 'cc0e4307e90401906ef14c27ef83512e927a9471',\n",
       " 'f8d173b07d377281b9ed920e0f98f56a2cd07136',\n",
       " 'fff238844076ad5643dc2ff53153581bd89441ea'}"
      ]
     },
     "execution_count": 14,
     "metadata": {},
     "output_type": "execute_result"
    }
   ],
   "source": [
    "embeddings_picks"
   ]
  },
  {
   "cell_type": "code",
   "execution_count": 15,
   "metadata": {},
   "outputs": [
    {
     "data": {
      "text/plain": [
       "{'38673093d908426ad70b17b9e230daf1d106aee8',\n",
       " '468da37ce0b0e77ae28628bd40287021446838e7',\n",
       " '475d92d6669a2d099293373731f353bf778465d3',\n",
       " '5a0dbfc0185158ab07c062f6f8ca1cd6b8f86d29',\n",
       " '8ec550ce7e4d45fee4975cb5a1330d536b21fd6e',\n",
       " 'bcbd7d07d0a233240a11a8157cc06e1b01718409',\n",
       " 'c6368fbf529af9cce5c49cadc65ea92f6595c066',\n",
       " 'd3305c6ea9f1121a322fac542375ac6ff96cfcde',\n",
       " 'd5f2fe667c267f7cb1ed42fca638473b9d838c52',\n",
       " 'e79a6b0de6ea568825304f2346751a6947b580b6'}"
      ]
     },
     "execution_count": 15,
     "metadata": {},
     "output_type": "execute_result"
    }
   ],
   "source": [
    "h_index_picks"
   ]
  },
  {
   "cell_type": "code",
   "execution_count": 16,
   "metadata": {},
   "outputs": [
    {
     "name": "stdout",
     "output_type": "stream",
     "text": [
      "set()\n"
     ]
    }
   ],
   "source": [
    "print(embeddings_picks.intersection(h_index_picks))"
   ]
  },
  {
   "cell_type": "code",
   "execution_count": null,
   "metadata": {},
   "outputs": [],
   "source": []
  }
 ],
 "metadata": {
  "kernelspec": {
   "display_name": "Python 3",
   "language": "python",
   "name": "python3"
  },
  "language_info": {
   "codemirror_mode": {
    "name": "ipython",
    "version": 3
   },
   "file_extension": ".py",
   "mimetype": "text/x-python",
   "name": "python",
   "nbconvert_exporter": "python",
   "pygments_lexer": "ipython3",
   "version": "3.8.0"
  }
 },
 "nbformat": 4,
 "nbformat_minor": 4
}
