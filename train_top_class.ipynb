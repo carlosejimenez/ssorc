{
 "cells": [
  {
   "cell_type": "code",
   "execution_count": 1,
   "metadata": {},
   "outputs": [],
   "source": [
    "import json\n",
    "import pandas as pd\n",
    "import numpy as np\n",
    "import utils\n",
    "from sklearn import linear_model, svm\n",
    "from sklearn.preprocessing import StandardScaler\n",
    "from sklearn.metrics import f1_score"
   ]
  },
  {
   "cell_type": "code",
   "execution_count": 2,
   "metadata": {},
   "outputs": [],
   "source": [
    "np.random.seed(42)"
   ]
  },
  {
   "cell_type": "code",
   "execution_count": 3,
   "metadata": {},
   "outputs": [],
   "source": [
    "def evaluate(model, x, y):\n",
    "    y_pred = model.predict(x)\n",
    "    print(f'f1: {f1_score(y, y_pred)}')"
   ]
  },
  {
   "cell_type": "code",
   "execution_count": 4,
   "metadata": {},
   "outputs": [],
   "source": [
    "x_train, y_train = utils.load_top_class_h_index_split('train')\n",
    "x_val, y_val = utils.load_top_class_h_index_split('val')\n",
    "test_pids, x_test, y_test = utils.load_top_class_h_index_split('test', include_pids=True)"
   ]
  },
  {
   "cell_type": "code",
   "execution_count": 5,
   "metadata": {},
   "outputs": [],
   "source": [
    "preprocressor = StandardScaler().fit(x_train, y=y_train)"
   ]
  },
  {
   "cell_type": "code",
   "execution_count": 6,
   "metadata": {},
   "outputs": [
    {
     "name": "stdout",
     "output_type": "stream",
     "text": [
      "f1: 0.26168224299065423\n",
      "\n",
      "f1: 0.29055690072639223\n"
     ]
    }
   ],
   "source": [
    "model = svm.LinearSVC(C=1e-2, class_weight='balanced', max_iter=1000000)\n",
    "model.fit(preprocressor.transform(x_train), y_train)\n",
    "evaluate(model, preprocressor.transform(x_train), y_train)\n",
    "print(f'Val')\n",
    "evaluate(model, preprocressor.transform(x_val), y_val)"
   ]
  },
  {
   "cell_type": "code",
   "execution_count": 7,
   "metadata": {},
   "outputs": [],
   "source": [
    "x_train, y_train = utils.join_splits([x_train, x_val], [y_train, y_val])"
   ]
  },
  {
   "cell_type": "code",
   "execution_count": 8,
   "metadata": {},
   "outputs": [
    {
     "name": "stdout",
     "output_type": "stream",
     "text": [
      "f1: 0.2609230769230769\n",
      "\n",
      "f1: 0.2831050228310502\n"
     ]
    }
   ],
   "source": [
    "model = svm.LinearSVC(C=1e-2, class_weight='balanced', max_iter=1000000)\n",
    "model.fit(preprocressor.transform(x_train), y_train)\n",
    "evaluate(model, preprocressor.transform(x_train), y_train)\n",
    "print(f'Test')\n",
    "evaluate(model, preprocressor.transform(x_test), y_test)\n",
    "h_index_decisions = model.decision_function(preprocressor.transform(x_test))\n",
    "h_index_pids = test_pids.copy()"
   ]
  },
  {
   "cell_type": "code",
   "execution_count": 9,
   "metadata": {},
   "outputs": [],
   "source": [
    "x_train, y_train = utils.load_top_class_embeddings_split('train')\n",
    "x_val, y_val = utils.load_top_class_embeddings_split('val')\n",
    "test_ids, x_test, y_test = utils.load_top_class_embeddings_split('test', include_pids=True)"
   ]
  },
  {
   "cell_type": "code",
   "execution_count": 10,
   "metadata": {},
   "outputs": [
    {
     "name": "stdout",
     "output_type": "stream",
     "text": [
      "f1: 0.5670202507232401\n",
      "\n",
      "f1: 0.28037383177570097\n"
     ]
    }
   ],
   "source": [
    "model = svm.LinearSVC(C=1e-3, class_weight='balanced', max_iter=1000000)\n",
    "model.fit(x_train, y_train)\n",
    "evaluate(model, x_train, y_train)\n",
    "print(f'Val')\n",
    "evaluate(model, x_val, y_val)"
   ]
  },
  {
   "cell_type": "code",
   "execution_count": 11,
   "metadata": {},
   "outputs": [],
   "source": [
    "x_train, y_train = utils.join_splits([x_train, x_val], [y_train, y_val])"
   ]
  },
  {
   "cell_type": "code",
   "execution_count": 14,
   "metadata": {},
   "outputs": [
    {
     "name": "stdout",
     "output_type": "stream",
     "text": [
      "f1: 0.539454806312769\n",
      "\n",
      "f1: 0.2619047619047619\n"
     ]
    }
   ],
   "source": [
    "model = svm.LinearSVC(C=1e-3, class_weight='balanced', max_iter=1000000)\n",
    "model.fit(x_train, y_train)\n",
    "evaluate(model, x_train, y_train)\n",
    "print(f'Test')\n",
    "evaluate(model, x_test, y_test)\n",
    "embeddings_decisions = model.decision_function(x_test)\n",
    "embeddings_pids = test_pids.copy()"
   ]
  },
  {
   "cell_type": "code",
   "execution_count": 26,
   "metadata": {},
   "outputs": [],
   "source": [
    "top_args = np.argsort(embeddings_decisions)[-10:]\n",
    "embeddings_picks = set(np.array(embeddings_pids)[top_args])"
   ]
  },
  {
   "cell_type": "code",
   "execution_count": 27,
   "metadata": {},
   "outputs": [],
   "source": [
    "top_args = np.argsort(h_index_decisions)[-10:]\n",
    "h_index_picks = set(np.array(h_index_pids)[top_args])"
   ]
  },
  {
   "cell_type": "code",
   "execution_count": 30,
   "metadata": {},
   "outputs": [
    {
     "data": {
      "text/plain": [
       "{'0f407906d8a66a1df2a6b6eb721c785f12c27269',\n",
       " '1cb73db86c39d52a788b541ddb02e7ee743c882e',\n",
       " '491671b77ee9dee2eaa6691f85fae7d3834fbdbe',\n",
       " '49970d0410793aa284fc0adca1e5d42881f99e6e',\n",
       " '5c72c3c141ef77f44b2270a970a3d55b58af5ca7',\n",
       " '728d1de052a40aa41ef8813bf128fb2a6db22597',\n",
       " 'ac3c4d1f128bef4180ed2cbb2cb02f5c45872424',\n",
       " 'd8abac3f198f8a66ec4b466074b89c1eb2c042b6',\n",
       " 'e0f0810e1938693ef2fa37a0e80d9dc6e8f5c4e6',\n",
       " 'fd225c39db7e20768277da6b44ade77cf8405036'}"
      ]
     },
     "execution_count": 30,
     "metadata": {},
     "output_type": "execute_result"
    }
   ],
   "source": [
    "embeddings_picks"
   ]
  },
  {
   "cell_type": "code",
   "execution_count": 31,
   "metadata": {},
   "outputs": [
    {
     "data": {
      "text/plain": [
       "{'38673093d908426ad70b17b9e230daf1d106aee8',\n",
       " '468da37ce0b0e77ae28628bd40287021446838e7',\n",
       " '475d92d6669a2d099293373731f353bf778465d3',\n",
       " '5a0dbfc0185158ab07c062f6f8ca1cd6b8f86d29',\n",
       " '5b5846bc384ecdaed7d6df43e2f744b98a446f44',\n",
       " '8ec550ce7e4d45fee4975cb5a1330d536b21fd6e',\n",
       " 'bcbd7d07d0a233240a11a8157cc06e1b01718409',\n",
       " 'd3305c6ea9f1121a322fac542375ac6ff96cfcde',\n",
       " 'd5f2fe667c267f7cb1ed42fca638473b9d838c52',\n",
       " 'e79a6b0de6ea568825304f2346751a6947b580b6'}"
      ]
     },
     "execution_count": 31,
     "metadata": {},
     "output_type": "execute_result"
    }
   ],
   "source": [
    "h_index_picks"
   ]
  },
  {
   "cell_type": "code",
   "execution_count": 32,
   "metadata": {},
   "outputs": [
    {
     "name": "stdout",
     "output_type": "stream",
     "text": [
      "set()\n"
     ]
    }
   ],
   "source": [
    "print(embeddings_picks.intersection(h_index_picks))"
   ]
  },
  {
   "cell_type": "code",
   "execution_count": null,
   "metadata": {},
   "outputs": [],
   "source": []
  }
 ],
 "metadata": {
  "kernelspec": {
   "display_name": "Python 3",
   "language": "python",
   "name": "python3"
  },
  "language_info": {
   "codemirror_mode": {
    "name": "ipython",
    "version": 3
   },
   "file_extension": ".py",
   "mimetype": "text/x-python",
   "name": "python",
   "nbconvert_exporter": "python",
   "pygments_lexer": "ipython3",
   "version": "3.8.0"
  }
 },
 "nbformat": 4,
 "nbformat_minor": 4
}
